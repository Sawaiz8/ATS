{
 "cells": [
  {
   "cell_type": "code",
   "execution_count": 1,
   "id": "8261c4a4-08c1-4e3e-b6a9-702a0d079217",
   "metadata": {},
   "outputs": [],
   "source": [
    "import pandas as pd"
   ]
  },
  {
   "cell_type": "code",
   "execution_count": 84,
   "id": "29397161-87df-4e7c-9efd-c8976a80a9c0",
   "metadata": {},
   "outputs": [],
   "source": [
    "df = pd.read_csv(\"Daadras ATS.csv\")"
   ]
  },
  {
   "cell_type": "code",
   "execution_count": 54,
   "id": "5e614454-5755-4cda-8ac5-7f92e581ed1a",
   "metadata": {},
   "outputs": [],
   "source": [
    "current = pd.read_csv(\"applicant_data.csv\")"
   ]
  },
  {
   "cell_type": "code",
   "execution_count": 55,
   "id": "133b2ad0-1aa1-493c-8f55-01aa4df3272c",
   "metadata": {},
   "outputs": [
    {
     "data": {
      "text/html": [
       "<div>\n",
       "<style scoped>\n",
       "    .dataframe tbody tr th:only-of-type {\n",
       "        vertical-align: middle;\n",
       "    }\n",
       "\n",
       "    .dataframe tbody tr th {\n",
       "        vertical-align: top;\n",
       "    }\n",
       "\n",
       "    .dataframe thead th {\n",
       "        text-align: right;\n",
       "    }\n",
       "</style>\n",
       "<table border=\"1\" class=\"dataframe\">\n",
       "  <thead>\n",
       "    <tr style=\"text-align: right;\">\n",
       "      <th></th>\n",
       "      <th>timestamp</th>\n",
       "      <th>email</th>\n",
       "      <th>name</th>\n",
       "      <th>age</th>\n",
       "      <th>gender</th>\n",
       "      <th>phone_number</th>\n",
       "      <th>transport</th>\n",
       "      <th>ngo_work</th>\n",
       "      <th>city</th>\n",
       "      <th>city_address</th>\n",
       "      <th>...</th>\n",
       "      <th>institute</th>\n",
       "      <th>cv</th>\n",
       "      <th>cs_skills</th>\n",
       "      <th>do you have any experience using canva, or any tool from the adobe media kit like photoshop, lightroom e.t.c</th>\n",
       "      <th>do you have any other computer skills that you believe is beneficial to teach kids between the age of 10 to 16?</th>\n",
       "      <th>your instagram account:</th>\n",
       "      <th>your linkedin profile:</th>\n",
       "      <th>do you have a discord id?</th>\n",
       "      <th>emergency contact number</th>\n",
       "      <th>applying_for</th>\n",
       "    </tr>\n",
       "  </thead>\n",
       "  <tbody>\n",
       "    <tr>\n",
       "      <th>0</th>\n",
       "      <td>2024/07/29 2:21:23 pm GMT+5</td>\n",
       "      <td>ahmad.daud.baloch@gmail.com</td>\n",
       "      <td>Ahmad Daud</td>\n",
       "      <td>22</td>\n",
       "      <td>Male</td>\n",
       "      <td>3000032568</td>\n",
       "      <td>Self Convenience</td>\n",
       "      <td>Yes</td>\n",
       "      <td>Lahore</td>\n",
       "      <td>Nishat Colony</td>\n",
       "      <td>...</td>\n",
       "      <td>Forman Christian College</td>\n",
       "      <td>https://drive.google.com/u/0/open?usp=forms_we...</td>\n",
       "      <td>Python, C++, C#, Arduino, Linux</td>\n",
       "      <td>Canva, Photoshop</td>\n",
       "      <td>yes i think so</td>\n",
       "      <td>NaN</td>\n",
       "      <td>NaN</td>\n",
       "      <td>No</td>\n",
       "      <td>3402348899</td>\n",
       "      <td>IT</td>\n",
       "    </tr>\n",
       "  </tbody>\n",
       "</table>\n",
       "<p>1 rows × 21 columns</p>\n",
       "</div>"
      ],
      "text/plain": [
       "                     timestamp                        email        name  age  \\\n",
       "0  2024/07/29 2:21:23 pm GMT+5  ahmad.daud.baloch@gmail.com  Ahmad Daud   22   \n",
       "\n",
       "  gender  phone_number         transport ngo_work    city   city_address  ...  \\\n",
       "0   Male    3000032568  Self Convenience      Yes  Lahore  Nishat Colony  ...   \n",
       "\n",
       "                  institute  \\\n",
       "0  Forman Christian College   \n",
       "\n",
       "                                                  cv  \\\n",
       "0  https://drive.google.com/u/0/open?usp=forms_we...   \n",
       "\n",
       "                         cs_skills  \\\n",
       "0  Python, C++, C#, Arduino, Linux   \n",
       "\n",
       "  do you have any experience using canva, or any tool from the adobe media kit like photoshop, lightroom e.t.c  \\\n",
       "0                                   Canva, Photoshop                                                             \n",
       "\n",
       "  do you have any other computer skills that you believe is beneficial to teach kids between the age of 10 to 16?  \\\n",
       "0                                     yes i think so                                                                \n",
       "\n",
       "  your instagram account:  your linkedin profile:  do you have a discord id?  \\\n",
       "0                     NaN                     NaN                         No   \n",
       "\n",
       "  emergency contact number  applying_for  \n",
       "0               3402348899            IT  \n",
       "\n",
       "[1 rows x 21 columns]"
      ]
     },
     "execution_count": 55,
     "metadata": {},
     "output_type": "execute_result"
    }
   ],
   "source": [
    "current.head()"
   ]
  },
  {
   "cell_type": "code",
   "execution_count": 85,
   "id": "d4a2b4e7-b877-4a0e-b6b8-b572568d55ee",
   "metadata": {},
   "outputs": [],
   "source": [
    "df.columns = map(str.lower, df.columns)\n",
    "\n",
    "\n",
    "df = df.rename(\n",
    "    columns = {\n",
    "        \"username\": \"email\",\n",
    "        \"phone number\": \"phone_number\",\n",
    "        \"have you worked for any ngo before?\": \"ngo_work\",\n",
    "        \"in which area do you currently reside in your city? \": \"city_address\",\n",
    "        \"institute where you currently study or studied\": \"institute\",\n",
    "        'your current occupation': \"occupation\",\n",
    "        \"what computers skills do you have?\": \"cs_skills\",\n",
    "        \"do you have any experience using canva, or any tool from the adobe media kit like photoshop, lightroom e.t.c\": \"adobe_canva\",\n",
    "        \"emergency contact number\": \"emergency_contact\",\n",
    "        \"your instagram account:\": \"insta_id\",\n",
    "        \"your linkedin profile:\": \"linkedin_id\",\n",
    "        \"do you have any other computer skills that you believe is beneficial to teach kids between the age of 10 to 16?\": \"other_skills\",\n",
    "        \"do you have a discord id?\": \"has_discord\",\n",
    "    }\n",
    ")\n",
    "\n",
    "df[\"applying_for\"] =\"IT\"\n",
    "df = df.fillna(\"-\")"
   ]
  },
  {
   "cell_type": "code",
   "execution_count": 81,
   "id": "79f7e4f9-8f00-49c0-9533-c20f0ad5060f",
   "metadata": {},
   "outputs": [
    {
     "name": "stdout",
     "output_type": "stream",
     "text": [
      "https://drive.google.com/u/0/open?usp=forms_web&id=1McW-90SxE16c2HTTjxUX-RYY4AK-4b6f\n"
     ]
    }
   ],
   "source": [
    "print(df[\"cv\"].values[0])"
   ]
  },
  {
   "cell_type": "code",
   "execution_count": 86,
   "id": "2441db89-21d1-4d3b-891c-69ccee9da0ba",
   "metadata": {},
   "outputs": [],
   "source": [
    "df.to_csv(\"applicant_data.csv\", header=True, index=False)"
   ]
  }
 ],
 "metadata": {
  "kernelspec": {
   "display_name": "Python 3 (ipykernel)",
   "language": "python",
   "name": "python3"
  },
  "language_info": {
   "codemirror_mode": {
    "name": "ipython",
    "version": 3
   },
   "file_extension": ".py",
   "mimetype": "text/x-python",
   "name": "python",
   "nbconvert_exporter": "python",
   "pygments_lexer": "ipython3",
   "version": "3.12.4"
  }
 },
 "nbformat": 4,
 "nbformat_minor": 5
}
